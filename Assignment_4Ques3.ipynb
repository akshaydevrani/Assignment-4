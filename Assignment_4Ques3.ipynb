{
 "cells": [
  {
   "cell_type": "code",
   "execution_count": 6,
   "id": "126d2eee",
   "metadata": {},
   "outputs": [
    {
     "name": "stdout",
     "output_type": "stream",
     "text": [
      "Square the elements of the list:\n",
      "[16, 25, 4, 81]\n"
     ]
    }
   ],
   "source": [
    "#Write a Python program to square the elements of a list using map() function.\n",
    "#Sample List: [4, 5, 2, 9]\n",
    "#Square the elements of the list:\n",
    "#[16, 25, 4, 81]\n",
    "\n",
    "def square_number(num):\n",
    "    return num ** 2\n",
    "sample_list = [4, 5, 2, 9]\n",
    "result_list = list(map(square_number, sample_list))\n",
    "print(\"Square the elements of the list:\")\n",
    "print(result_list)"
   ]
  }
 ],
 "metadata": {
  "kernelspec": {
   "display_name": "Python 3 (ipykernel)",
   "language": "python",
   "name": "python3"
  },
  "language_info": {
   "codemirror_mode": {
    "name": "ipython",
    "version": 3
   },
   "file_extension": ".py",
   "mimetype": "text/x-python",
   "name": "python",
   "nbconvert_exporter": "python",
   "pygments_lexer": "ipython3",
   "version": "3.11.3"
  }
 },
 "nbformat": 4,
 "nbformat_minor": 5
}
