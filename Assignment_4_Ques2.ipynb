{
 "cells": [
  {
   "cell_type": "code",
   "execution_count": 5,
   "id": "5e7cfaa5",
   "metadata": {},
   "outputs": [
    {
     "name": "stdout",
     "output_type": "stream",
     "text": [
      "Triple of list numbers:\n",
      "[3, 6, 9, 12, 15, 18, 21]\n"
     ]
    }
   ],
   "source": [
    "#Write a Python program to triple all numbers of a given list of integers. Use Python map.\n",
    "#sample list: [1, 2, 3, 4, 5, 6, 7]\n",
    "#Triple of list numbers:\n",
    "#[3, 6, 9, 12, 15, 18, 21]\n",
    "\n",
    "\n",
    "def triple_number(num):\n",
    "    return num * 3\n",
    "sample_list = [1, 2, 3, 4, 5, 6, 7]\n",
    "result_list = list(map(triple_number, sample_list))\n",
    "print(\"Triple of list numbers:\")\n",
    "print(result_list)"
   ]
  }
 ],
 "metadata": {
  "kernelspec": {
   "display_name": "Python 3 (ipykernel)",
   "language": "python",
   "name": "python3"
  },
  "language_info": {
   "codemirror_mode": {
    "name": "ipython",
    "version": 3
   },
   "file_extension": ".py",
   "mimetype": "text/x-python",
   "name": "python",
   "nbconvert_exporter": "python",
   "pygments_lexer": "ipython3",
   "version": "3.11.3"
  }
 },
 "nbformat": 4,
 "nbformat_minor": 5
}
